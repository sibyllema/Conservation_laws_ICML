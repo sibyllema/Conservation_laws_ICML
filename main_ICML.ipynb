{
 "cells": [
  {
   "cell_type": "markdown",
   "id": "c2d11b07",
   "metadata": {},
   "source": [
    "# Imports"
   ]
  },
  {
   "cell_type": "code",
   "execution_count": 1,
   "id": "d2a7c413",
   "metadata": {},
   "outputs": [],
   "source": [
    "import os\n",
    "import numpy as np\n",
    "os.environ[\"SAGE_NUM_THREADS\"] = '64' #set to number of cores"
   ]
  },
  {
   "cell_type": "code",
   "execution_count": 2,
   "id": "4a5d4cf8",
   "metadata": {},
   "outputs": [],
   "source": [
    "run create_generic_polynomial_ICML.ipynb"
   ]
  },
  {
   "cell_type": "markdown",
   "id": "79afc3a9",
   "metadata": {},
   "source": [
    "to create a generic polynomial with a given number of indeterminates with generic coefs"
   ]
  },
  {
   "cell_type": "code",
   "execution_count": 3,
   "id": "7e73d532",
   "metadata": {},
   "outputs": [],
   "source": [
    "run get_all_polynomial_conserved_functions_ICML.ipynb "
   ]
  },
  {
   "cell_type": "markdown",
   "id": "99910e08",
   "metadata": {},
   "source": [
    "to get all polynomial conservation laws for given vector fields as presented in section 3.1.1"
   ]
  },
  {
   "cell_type": "code",
   "execution_count": 29,
   "id": "693366b8",
   "metadata": {},
   "outputs": [],
   "source": [
    "run get_specific_vector_fields_ICML.ipynb"
   ]
  },
  {
   "cell_type": "markdown",
   "id": "9139a112",
   "metadata": {},
   "source": [
    "to get \n",
    "- the vector fields associated to the study of linear and ReLU neural networks in Momentum Flow with a constant $\\tau$ or with $\\tau(t):=3/t$ (Euclidean Heavy-ball and Euclidean Nesterov scenarios)\n",
    "- the vector fields associated to the study of the NMF Problem with mirror geometry on both $U$ and $V$ (in the gradient flow and in the momentum scenario).\n",
    "- the vector fields associated to the study of the ICNN Problem with a $2$-layer ReLU network $U \\sigma (Vx + b)$ with a mirror geometry on $U$ and a euclidean metric on $V$ and $b$ (in the gradient flow and in the momentum scenario)."
   ]
  },
  {
   "cell_type": "code",
   "execution_count": 5,
   "id": "836a85ec",
   "metadata": {},
   "outputs": [],
   "source": [
    "run computation_dimension_trace_Lie_algebra_ICML.ipynb # to get the number of independent conservation laws"
   ]
  },
  {
   "cell_type": "code",
   "execution_count": 6,
   "id": "400393a2",
   "metadata": {},
   "outputs": [
    {
     "data": {
      "text/plain": [
       "64"
      ]
     },
     "execution_count": 6,
     "metadata": {},
     "output_type": "execute_result"
    }
   ],
   "source": [
    "sage.parallel.ncpus.ncpus()"
   ]
  },
  {
   "cell_type": "code",
   "execution_count": 7,
   "id": "253a6e26",
   "metadata": {},
   "outputs": [],
   "source": [
    "# increase the maximum memory usage\n",
    "# warning: this can consume a lot of RAM\n",
    "maxima._eval_line(\":lisp (ext:set-limit 'ext:heap-size 100000000000)\",\n",
    "wait_for_prompt=False)"
   ]
  },
  {
   "cell_type": "markdown",
   "id": "f5a9338e",
   "metadata": {},
   "source": [
    "**In this notebook we test our results on different vector fields $(\\chi_i)_{i}$.**\n",
    "\n",
    "### Table of contents: \n",
    "- **Part A: Test on the Euclidean Metric case, with momentum for linear (See Section 4.1.1 of our paper) and ReLU neural networks (See 4.1.2 of our paper)**  \n",
    "- **Part B: Test on the vector fields associated to the NMF problem (See Section 4.2.1 of our paper)**  \n",
    "- **Part C: Test on the vector fields associated to the ICNN problem (see Section 4.2.2 of our paper)**  "
   ]
  },
  {
   "cell_type": "markdown",
   "id": "5d18bb67",
   "metadata": {},
   "source": [
    "# A. Euclidean Metric (with momentum) for linear and ReLU neural networks"
   ]
  },
  {
   "cell_type": "code",
   "execution_count": 8,
   "id": "bf90be3c",
   "metadata": {},
   "outputs": [],
   "source": [
    "from tqdm import tqdm"
   ]
  },
  {
   "cell_type": "code",
   "execution_count": 33,
   "id": "66fe5d5f",
   "metadata": {},
   "outputs": [
    {
     "name": "stderr",
     "output_type": "stream",
     "text": [
      "100%|███████████████████████████████████████████| 20/20 [02:19<00:00,  6.96s/it]\n"
     ]
    }
   ],
   "source": [
    "np.random.seed(0)\n",
    "for i in tqdm(range(20)):\n",
    "    depth = np.random.randint(2, 4)\n",
    "    list_dim = np.empty(depth + 1, dtype=int)\n",
    "    for j in range(depth + 1):\n",
    "        list_dim[j] = np.random.randint(1, 4)\n",
    "    list_dim = list(list_dim)\n",
    "    tau_value = np.random.randint(0, 1)\n",
    "    D, vector_fields = vector_fields_for_q_layer_LNN_momentum(list_dim, tau_value)\n",
    "    dim_found = D - dim_trace_lie_algebra(vector_fields, verbose=0)\n",
    "    degree = 2 + tau_value\n",
    "    dim_poly = solve(degree, vector_fields)\n",
    "    assert dim_found == dim_poly\n"
   ]
  },
  {
   "cell_type": "markdown",
   "id": "79fbcfc1",
   "metadata": {},
   "source": [
    "The number of independent functions found by algorithm presented in section 3.1.1 matches with $2D+1 - \\text{dim} Lie W_{\\phi} (\\alpha)$: there is no other conservation law!"
   ]
  },
  {
   "cell_type": "code",
   "execution_count": 11,
   "id": "e417b91b",
   "metadata": {},
   "outputs": [
    {
     "name": "stderr",
     "output_type": "stream",
     "text": [
      "100%|███████████████████████████████████████████| 20/20 [01:03<00:00,  3.17s/it]\n"
     ]
    }
   ],
   "source": [
    "np.random.seed(0)\n",
    "for i in tqdm(range(20)):\n",
    "    depth = np.random.randint(2, 4)\n",
    "    list_dim = np.empty(depth + 1, dtype=int)\n",
    "    for j in range(depth + 1):\n",
    "        list_dim[j] = np.random.randint(1, 4)\n",
    "    list_dim = list(list_dim)\n",
    "    tau_value = np.random.randint(0, 1)\n",
    "    if np.random.random() < 0.5:\n",
    "        bias = True\n",
    "    else:\n",
    "        bias = False\n",
    "    D, vector_fields = vector_fields_ReLU_q_layers_momentum(list_dim, bias, tau_value)\n",
    "    dim_found = D - dim_trace_lie_algebra(vector_fields, verbose=0)\n",
    "    assert dim_found == 0 "
   ]
  },
  {
   "cell_type": "markdown",
   "id": "865c2e02",
   "metadata": {},
   "source": [
    "For the ReLU case in the Euclidean momentum case, we obtain that there is zero conservation law!"
   ]
  },
  {
   "cell_type": "markdown",
   "id": "70064c62",
   "metadata": {},
   "source": [
    "# B. An example of non-Euclidean metric: the NMF"
   ]
  },
  {
   "cell_type": "markdown",
   "id": "d478bb58",
   "metadata": {},
   "source": [
    "Gradient Flow case."
   ]
  },
  {
   "cell_type": "code",
   "execution_count": 13,
   "id": "41963866",
   "metadata": {},
   "outputs": [
    {
     "name": "stderr",
     "output_type": "stream",
     "text": [
      "100%|███████████████████████████████████████████| 20/20 [07:28<00:00, 22.42s/it]\n"
     ]
    }
   ],
   "source": [
    "np.random.seed(0)\n",
    "for i in tqdm(range(20)):\n",
    "    list_dim = np.empty(3, dtype=int)\n",
    "    for j in range(3):\n",
    "        list_dim[j] = np.random.randint(1,8)\n",
    "    list_dim = list(list_dim)\n",
    "    D, vector_fields = NMF(list_dim[0], list_dim[1], list_dim[2])\n",
    "    dim_found = D - dim_trace_lie_algebra(vector_fields, verbose=0)\n",
    "    dim_poly = solve(2, vector_fields, False, True)\n",
    "    assert dim_found == dim_poly"
   ]
  },
  {
   "cell_type": "markdown",
   "id": "b9d5d0c0",
   "metadata": {},
   "source": [
    "The number of independent functions found by algorithm presented in section 3.1.1 matches with $D - \\text{dim} Lie W_{\\phi} (\\theta)$: there is no other conservation law!"
   ]
  },
  {
   "cell_type": "markdown",
   "id": "039ee295",
   "metadata": {},
   "source": [
    "Momentum flow case."
   ]
  },
  {
   "cell_type": "code",
   "execution_count": 18,
   "id": "f227e9f3",
   "metadata": {},
   "outputs": [
    {
     "name": "stderr",
     "output_type": "stream",
     "text": [
      "100%|███████████████████████████████████████████| 20/20 [01:45<00:00,  5.25s/it]\n"
     ]
    }
   ],
   "source": [
    "np.random.seed(0)\n",
    "for i in tqdm(range(20)):\n",
    "    list_dim = np.empty(3, dtype=int)\n",
    "    for j in range(3):\n",
    "        list_dim[j] = np.random.randint(1,6)\n",
    "    list_dim = list(list_dim)\n",
    "    tau_value = np.random.randint(0, 1)\n",
    "    D, vector_fields = NMF_momentum(list_dim[0], list_dim[1], list_dim[2], tau_value)\n",
    "    dim_found = D - dim_trace_lie_algebra(vector_fields, verbose=0)\n",
    "    assert dim_found == 0\n"
   ]
  },
  {
   "cell_type": "markdown",
   "id": "9f58997a",
   "metadata": {},
   "source": [
    "Again, in this mirror geometry with momentum, we obtain that there is zero conservation law!"
   ]
  },
  {
   "cell_type": "markdown",
   "id": "fa4a6914",
   "metadata": {},
   "source": [
    "# C. Another non-Euclidean Case: ICNN."
   ]
  },
  {
   "cell_type": "markdown",
   "id": "f0fb5a9d",
   "metadata": {},
   "source": [
    "The Gradient flow case."
   ]
  },
  {
   "cell_type": "code",
   "execution_count": 20,
   "id": "3d0c6aef",
   "metadata": {},
   "outputs": [
    {
     "name": "stderr",
     "output_type": "stream",
     "text": [
      "100%|███████████████████████████████████████████| 20/20 [12:36<00:00, 37.83s/it]\n"
     ]
    }
   ],
   "source": [
    "np.random.seed(0)\n",
    "for i in tqdm(range(20)):\n",
    "    list_dim = np.empty(3, dtype=int)\n",
    "    for j in range(3):\n",
    "        list_dim[j] = np.random.randint(1,6)\n",
    "    list_dim = list(list_dim)\n",
    "    if np.random.random() < 0.5:\n",
    "        bias = True\n",
    "    else:\n",
    "        bias = False\n",
    "    D, vector_fields = ICNN(list_dim[0], list_dim[1], list_dim[2], bias)\n",
    "    dim_found = D - dim_trace_lie_algebra(vector_fields, verbose=0)\n",
    "    dim_poly = solve(2, vector_fields, False, True)\n",
    "    assert dim_found == dim_poly"
   ]
  },
  {
   "cell_type": "markdown",
   "id": "0fe5a8b2",
   "metadata": {},
   "source": [
    "The number of independent functions found by algorithm presented in section 3.1.1 matches with $D- \\text{dim} Lie W_{\\phi} (\\theta)$: there is no other conservation law!"
   ]
  },
  {
   "cell_type": "markdown",
   "id": "7229d9bd",
   "metadata": {},
   "source": [
    "The Momentum flow case."
   ]
  },
  {
   "cell_type": "code",
   "execution_count": 32,
   "id": "3c060645",
   "metadata": {},
   "outputs": [
    {
     "name": "stderr",
     "output_type": "stream",
     "text": [
      "100%|███████████████████████████████████████████| 20/20 [12:09<00:00, 36.49s/it]\n"
     ]
    }
   ],
   "source": [
    "np.random.seed(0)\n",
    "for i in tqdm(range(20)):\n",
    "    list_dim = np.empty(3, dtype=int)\n",
    "    for j in range(3):\n",
    "        list_dim[j] = np.random.randint(1,6)\n",
    "    list_dim = list(list_dim)\n",
    "    if np.random.random() < 0.5:\n",
    "        bias = True\n",
    "    else:\n",
    "        bias = False\n",
    "    tau_value = np.random.randint(0, 1)\n",
    "    D, vector_fields = ICNN_momentum(list_dim[0], list_dim[1], list_dim[2], tau_value, bias)\n",
    "    dim_found = D - dim_trace_lie_algebra(vector_fields, verbose=0)\n",
    "    assert dim_found == 0, \"dim_found = {}, n_polynomial_functions = {}, for list_dim {}\".format(dim_found, dim_poly, list_dim)"
   ]
  },
  {
   "cell_type": "markdown",
   "id": "00ca8257",
   "metadata": {},
   "source": [
    "Again, in this mixed mirror-euclidean geometry with momentum, we obtain that there is zero conservation law!"
   ]
  },
  {
   "cell_type": "code",
   "execution_count": null,
   "id": "d1dfd3fa",
   "metadata": {},
   "outputs": [],
   "source": []
  }
 ],
 "metadata": {
  "kernelspec": {
   "display_name": "SageMath 9.7",
   "language": "sage",
   "name": "sagemath-9.7"
  },
  "language_info": {
   "codemirror_mode": {
    "name": "ipython",
    "version": 3
   },
   "file_extension": ".py",
   "mimetype": "text/x-python",
   "name": "python",
   "nbconvert_exporter": "python",
   "pygments_lexer": "ipython3",
   "version": "3.10.5"
  }
 },
 "nbformat": 4,
 "nbformat_minor": 5
}

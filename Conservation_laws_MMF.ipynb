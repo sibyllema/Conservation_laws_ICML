{
  "cells": [
    {
      "cell_type": "markdown",
      "source": [
        "Conservation laws for mirror descent applied to NMF.\n",
        "----\n",
        "\n",
        "This is the code to reproduce the numerical simulation of the paper\n",
        "\n",
        "> _Keep the Momentum: Conservation Laws beyond Gradient Flows_"
      ],
      "metadata": {
        "id": "5MEV-2pM0JcQ"
      }
    },
    {
      "cell_type": "code",
      "execution_count": null,
      "metadata": {
        "colab": {
          "base_uri": "https://localhost:8080/"
        },
        "id": "nQLekCIUykCV",
        "outputId": "c3d1a5dc-73d5-454f-caf1-ac645c301e1f"
      },
      "outputs": [
        {
          "output_type": "stream",
          "name": "stdout",
          "text": [
            "Using device: cuda\n"
          ]
        }
      ],
      "source": [
        "import torch\n",
        "from torchvision.datasets import MNIST\n",
        "from torchvision.transforms import ToTensor\n",
        "import progressbar\n",
        "import matplotlib.pyplot as plt\n",
        "import numpy as np\n",
        "\n",
        "device = torch.device('cuda' if torch.cuda.is_available() else 'cpu')\n",
        "print(f'Using device: {device}')"
      ]
    },
    {
      "cell_type": "code",
      "execution_count": null,
      "metadata": {
        "id": "jYX2b8l4ykCW",
        "colab": {
          "base_uri": "https://localhost:8080/"
        },
        "outputId": "ba918473-167b-44f2-b9c8-23a2af233fe7"
      },
      "outputs": [
        {
          "output_type": "stream",
          "name": "stdout",
          "text": [
            "Downloading http://yann.lecun.com/exdb/mnist/train-images-idx3-ubyte.gz\n",
            "Downloading http://yann.lecun.com/exdb/mnist/train-images-idx3-ubyte.gz to ./data/MNIST/raw/train-images-idx3-ubyte.gz\n"
          ]
        },
        {
          "output_type": "stream",
          "name": "stderr",
          "text": [
            "100%|██████████| 9912422/9912422 [00:00<00:00, 85518400.79it/s]\n"
          ]
        },
        {
          "output_type": "stream",
          "name": "stdout",
          "text": [
            "Extracting ./data/MNIST/raw/train-images-idx3-ubyte.gz to ./data/MNIST/raw\n",
            "\n",
            "Downloading http://yann.lecun.com/exdb/mnist/train-labels-idx1-ubyte.gz\n",
            "Downloading http://yann.lecun.com/exdb/mnist/train-labels-idx1-ubyte.gz to ./data/MNIST/raw/train-labels-idx1-ubyte.gz\n"
          ]
        },
        {
          "output_type": "stream",
          "name": "stderr",
          "text": [
            "100%|██████████| 28881/28881 [00:00<00:00, 111748795.04it/s]\n"
          ]
        },
        {
          "output_type": "stream",
          "name": "stdout",
          "text": [
            "Extracting ./data/MNIST/raw/train-labels-idx1-ubyte.gz to ./data/MNIST/raw\n",
            "\n",
            "Downloading http://yann.lecun.com/exdb/mnist/t10k-images-idx3-ubyte.gz\n",
            "Downloading http://yann.lecun.com/exdb/mnist/t10k-images-idx3-ubyte.gz to ./data/MNIST/raw/t10k-images-idx3-ubyte.gz\n"
          ]
        },
        {
          "output_type": "stream",
          "name": "stderr",
          "text": [
            "100%|██████████| 1648877/1648877 [00:00<00:00, 28854205.52it/s]\n"
          ]
        },
        {
          "output_type": "stream",
          "name": "stdout",
          "text": [
            "Extracting ./data/MNIST/raw/t10k-images-idx3-ubyte.gz to ./data/MNIST/raw\n",
            "\n",
            "Downloading http://yann.lecun.com/exdb/mnist/t10k-labels-idx1-ubyte.gz\n",
            "Downloading http://yann.lecun.com/exdb/mnist/t10k-labels-idx1-ubyte.gz to ./data/MNIST/raw/t10k-labels-idx1-ubyte.gz\n"
          ]
        },
        {
          "output_type": "stream",
          "name": "stderr",
          "text": [
            "100%|██████████| 4542/4542 [00:00<00:00, 18622217.76it/s]\n"
          ]
        },
        {
          "output_type": "stream",
          "name": "stdout",
          "text": [
            "Extracting ./data/MNIST/raw/t10k-labels-idx1-ubyte.gz to ./data/MNIST/raw\n",
            "\n"
          ]
        }
      ],
      "source": [
        "# Load the MNIST dataset\n",
        "mnist_train = MNIST(root='./data', train=True, download=True, transform=ToTensor())\n",
        "mnist_test = MNIST(root='./data', train=False, download=True, transform=ToTensor())\n",
        "# Filter out only the images that correspond to the digit 0\n",
        "train_zeros = [img for img, label in mnist_train if label == 0]\n",
        "test_zeros = [img for img, label in mnist_test if label == 0]\n",
        "# Concatenate train and test datasets\n",
        "Y = train_zeros + test_zeros\n",
        "# Convert list of images to a tensor of size (n,p0*p0)\n",
        "Y = torch.stack(Y).squeeze()\n",
        "n,p0,_ = Y.shape\n",
        "p = p0*p0\n",
        "Y = Y.reshape( n, p ).to(device) + .001 # shift a bit away from 0\n",
        "print(p0)"
      ]
    },
    {
      "cell_type": "markdown",
      "source": [
        "Here we aim at solving\n",
        "$$\n",
        "  \\min_{U\\geq 0, V\\geq 0} f(U,V) := \\|UV^\\top - Y\\|^2\n",
        "$$\n",
        "and we store $x=(U,V^\\top) \\in \\mathbb{R}^{(n+p) \\times r}$"
      ],
      "metadata": {
        "id": "3qytbhWsWt5Q"
      }
    },
    {
      "cell_type": "markdown",
      "source": [
        "We consider the second order variable metric ODE\n",
        "$$\n",
        "\t\\mu \\ddot x + \\nu \\dot x = -H( \\mu \\dot x + \\nu x ) \\nabla f(x)\n",
        "$$\n",
        "For instance on can use $\\mu=1$ and $\\nu=\\tau$ if one does not aim at gradient flows, and $\\mu=0, \\nu=1$ for gradient flows.\n",
        "To ensure non-negativity constraints, we select here $H(z) v=z \\odot v$, which corresponds to a mirror descent flow.\n",
        "\n",
        "The ODE can be discretized as\n",
        "$$\n",
        "\t  \\mu ( x(t+1) + x(t-1) - 2 x(t) ) / \\delta^2 + \\nu ( x(t+1) - x(t) ) / \\delta = - H_t \\nabla f(x(t))\n",
        "$$\n",
        "where\n",
        "$$\n",
        "  H_t := H( \\mu (x(t)-x(t-1))/\\delta + \\nu x(t) ),\n",
        "$$\n",
        "so that\n",
        "$$\n",
        "\t[\\nu + \\mu/\\delta] x(t+1) - [ \\nu + 2 \\mu/\\delta  ] x(t)\n",
        "  + \\mu/\\delta  x(t-1) = -\\delta H_t \\nabla f(x(t))\n",
        "$$\n",
        "so\n",
        "$$\n",
        "\t[\\nu + \\mu/\\delta] x(t+1)  = [\\nu + \\mu/\\delta] x(t) + \\mu/\\delta ( x(t) - x(t-1) ) - \\delta H_t \\nabla f(x(t))\n",
        "$$\n",
        "\n",
        "This can thus be re-written as\n",
        "$$\n",
        "    x(t+1) = x(t) - \\alpha H_t \\nabla f(x(t)) + \\beta (x(t)-x(t-1))\n",
        "$$\n",
        "set $\\beta=0$ to recover gradient descent and $0 \\leq \\beta \\leq 1$ ($\\beta=1$ is pure momentum). So that one has the following remapping of parameters\n",
        "$$\n",
        "\t\\alpha = \\frac{\\delta}{\\nu + \\mu/\\delta}\n",
        "  \\quad\\text{and}\\quad\n",
        "\t\\beta =  \\frac{ \\mu/\\delta }{ \\nu + \\mu/\\delta } =\n",
        "  \\frac{\\mu}{ \\delta \\nu + \\mu} \\leq 1\n",
        "$$"
      ],
      "metadata": {
        "id": "jbgHOPt5Saug"
      }
    },
    {
      "cell_type": "code",
      "execution_count": null,
      "metadata": {
        "colab": {
          "base_uri": "https://localhost:8080/",
          "height": 519
        },
        "id": "jqq3-drDykCW",
        "outputId": "6e6abed9-2fab-466d-e432-6415756e2b86"
      },
      "outputs": [
        {
          "output_type": "stream",
          "name": "stderr",
          "text": [
            "Training: 100% |###############################################| Time:  0:00:02\n",
            "Training: 100% |###############################################| Time:  0:00:02\n",
            "Training: 100% |###############################################| Time:  0:00:02\n",
            "Training: 100% |###############################################| Time:  0:00:02\n"
          ]
        },
        {
          "output_type": "display_data",
          "data": {
            "text/plain": [
              "<Figure size 640x480 with 1 Axes>"
            ],
            "image/png": "[encoded data removed]"
          },
          "metadata": {}
        }
      ],
      "source": [
        "# Initialize parameters\n",
        "r = 10  # rank for the factorization\n",
        "\n",
        "# KL\n",
        "def myloss(X,Y): return torch.mean( X * torch.log(X/Y) - X + Y )\n",
        "# L2\n",
        "def myloss(X,Y): return torch.mean( (X - Y) ** 2 )\n",
        "\n",
        "Tmax = 1000000\n",
        "test_type='step_size'\n",
        "test_type='momentum'\n",
        "\n",
        "Tmax = 1000000.0\n",
        "\n",
        "if test_type=='step_size':\n",
        "  # Testing step size\n",
        "  delta_list = Tmax/150 * torch.tensor( [.1, .5, 1] )\n",
        "  mu_list = torch.zeros(len(delta_list)) # + 10000  # uncomment if you want no momentum\n",
        "  nu_list = torch.ones(len(delta_list))\n",
        "  Col = [np.array([1, 0, 0]), np.array([0, 0, 1])] # color used for display\n",
        "elif test_type=='momentum':\n",
        "  # Testing momentum\n",
        "  mu_list = torch.tensor([0, 1, 5, 10])*10000.0;\n",
        "  delta_list = Tmax/1000 * torch.ones(len(mu_list)) # step size\n",
        "  nu_list = torch.ones(len(mu_list))\n",
        "  Col = [np.array([1, 0, 1]), np.array([0, 1, 0])] # color used for display\n",
        "\n",
        "geometry = 'linear'\n",
        "geometry = 'mirror'\n",
        "\n",
        "H_GF_list = [] # to stored conservation laws\n",
        "H_Mom_list = []\n",
        "Loss_list = []\n",
        "# Randomly initialize U and V, x=[U;V], and scale them\n",
        "x0 = torch.rand(n+p, r, device=device)\n",
        "x0[:n,] = x0[:n,] / torch.norm(x0[:n,]) * torch.sqrt( torch.norm(Y) )\n",
        "x0[n:,] = x0[n:,] / torch.norm(x0[n:,]) * torch.sqrt( torch.norm(Y) )\n",
        "\n",
        "for it in range(len(delta_list)):\n",
        "  mu = mu_list[it]\n",
        "  nu = nu_list[it]\n",
        "  delta = delta_list[it]\n",
        "  # conversion to discrete parameters\n",
        "  alpha = delta / (nu + mu/delta)\n",
        "  beta = mu/( delta * nu + mu )\n",
        "  # number of iterations of the descent to reach Tmax\n",
        "  niter = ( Tmax/delta ).int().item()\n",
        "\n",
        "  x = x0.clone()\n",
        "  x.requires_grad = True\n",
        "  # Previous U,V (for momentum, initialized with 0 speed)\n",
        "  xp = x.detach()\n",
        "\n",
        "  widgets = ['Training: ', progressbar.Percentage(), ' ',\n",
        "            progressbar.Bar(), ' ', progressbar.ETA()]\n",
        "  bar = progressbar.ProgressBar(maxval=niter, widgets=widgets).start()\n",
        "  loss_list = torch.zeros(niter, device=device)\n",
        "\n",
        "  # gradient flow preserved quantities\n",
        "  if geometry=='linear':\n",
        "    H_GF = torch.zeros(r*r,niter)\n",
        "    H_Mom = torch.zeros(r*r,niter) # momentum flow preserved quantities\n",
        "  elif geometry=='mirror':\n",
        "    H_GF = torch.zeros(r,niter)\n",
        "    H_Mom = torch.tensor([])\n",
        "\n",
        "  # Gradient Descent\n",
        "  for epoch in range(niter):\n",
        "    # Forward pass: Compute predicted Y\n",
        "    loss = myloss( x[:n,:] @ x[n:,:].T, Y )\n",
        "    # Zero gradients, perform a backward pass, and update the weights.\n",
        "    loss.backward()\n",
        "    with torch.no_grad():\n",
        "      # variable metric\n",
        "      if geometry=='linear':\n",
        "        Hx = torch.ones(n+p, r, device=device) # no metric\n",
        "      elif geometry=='mirror':\n",
        "        Hx = mu/delta * (x-xp) + nu * x\n",
        "      # update rule\n",
        "      x1 = x.detach().clone() # bookeeping\n",
        "      x -=  alpha * Hx * x.grad - beta * (x-xp)\n",
        "      xp = x1 # update previous step\n",
        "      # Manually zero the gradients after updating weights\n",
        "      x.grad.zero_()\n",
        "      # conserved quantities for GF\n",
        "      U = x[:n,:]\n",
        "      V = x[n:,:]\n",
        "      dU = ( x[:n,:] - xp[:n,:] ) / delta # derivative in time\n",
        "      dV = ( x[n:,:] - xp[n:,:] ) / delta\n",
        "      if geometry=='linear':\n",
        "        H_GF[:,epoch] = ( U.T@U - V.T@V ).flatten()\n",
        "        # TODO : conserved quantities for momentum\n",
        "      elif geometry=='mirror':\n",
        "        H_GF[:,epoch] = U.sum(axis=0) - V.sum(axis=0)\n",
        "    loss_list[epoch] = loss.item()\n",
        "    bar.update(epoch + 1)\n",
        "\n",
        "  bar.finish()\n",
        "  H_GF_list.append(H_GF.detach())\n",
        "  H_Mom_list.append(H_Mom.detach())\n",
        "  Loss_list.append(loss_list)\n",
        "  plt.plot(torch.linspace(0,Tmax,niter), loss_list.cpu(), '.-');\n"
      ]
    },
    {
      "cell_type": "markdown",
      "source": [
        "Display loss evolution."
      ],
      "metadata": {
        "id": "T3_CIpd0ATXZ"
      }
    },
    {
      "cell_type": "code",
      "source": [
        "import matplotlib\n",
        "from matplotlib.colors import LinearSegmentedColormap\n",
        "from matplotlib.cm import ScalarMappable\n",
        "\n",
        "plt.figure(figsize=(3, 2))\n",
        "ax = plt.gca()\n",
        "for it in range(len(delta_list)):\n",
        "  H = Loss_list[it].cpu()\n",
        "  niter = len(H)\n",
        "  c = (1.0-it/len(delta_list))*Col[0] + it/len(delta_list)*Col[1]\n",
        "  lgd_str = 'NMF, '\n",
        "  if mu_list.std()>0:\n",
        "    lgd_str += 'Influence of $\\\\mu$'\n",
        "  if nu_list.std()>0:\n",
        "    lgd_str += 'Influence of $\\\\nu$'\n",
        "  if delta_list.std()>0:\n",
        "    lgd_str += 'Influence of $\\\\delta$'\n",
        "  plt.plot(torch.linspace(0,1,niter), H, color=c)\n",
        "ax.set_ylabel('Loss')\n",
        "ax.set_xlabel('time t')\n",
        "plt.title(lgd_str)\n",
        "cmap = LinearSegmentedColormap.from_list('custom_colormap', [Col[0], Col[1]])\n",
        "sm = ScalarMappable(cmap=cmap, norm=plt.Normalize(0, 1))\n",
        "sm.set_array([])\n",
        "plt.colorbar(sm, ax=ax, orientation='vertical')\n",
        "plt.savefig('nmf_loss.pdf', format='pdf')"
      ],
      "metadata": {
        "id": "MnIgmnLlG-vz"
      },
      "execution_count": null,
      "outputs": []
    },
    {
      "cell_type": "markdown",
      "source": [
        "Display conservation laws evolution."
      ],
      "metadata": {
        "id": "RAmkdNAzAWhJ"
      }
    },
    {
      "cell_type": "code",
      "source": [
        "plt.figure(figsize=(3, 2))\n",
        "ax = plt.gca()\n",
        "for it in range(len(delta_list)):\n",
        "  H = H_GF_list[it].cpu()\n",
        "  niter = H.shape[-1]\n",
        "  c = (1.0-it/len(delta_list))*Col[0] + it/len(delta_list)*Col[1]\n",
        "  lgd_str = 'NMF, '\n",
        "  if mu_list.std()>0:\n",
        "    lgd_str += 'Influence of $\\\\mu$'\n",
        "    #lgd_str += f'$\\\\mu={mu_list[it]/max(mu_list):.1f}$'\n",
        "  if nu_list.std()>0:\n",
        "    lgd_str += 'Influence of $\\\\nu$'\n",
        "    # gd_str += f'$ \\\\nu={nu_list[it]/max(nu_list):.1f}$'\n",
        "  if delta_list.std()>0:\n",
        "    lgd_str += 'Influence of $\\\\delta$'\n",
        "  plt.plot(torch.linspace(0,1,niter), H[k,:].T, color=c)\n",
        "ax.set_ylabel('Conservation law')\n",
        "ax.set_xlabel('time t')\n",
        "plt.title(lgd_str)\n",
        "# plt.legend();\n",
        "cmap = LinearSegmentedColormap.from_list('custom_colormap', [Col[0], Col[1]])\n",
        "sm = ScalarMappable(cmap=cmap, norm=plt.Normalize(0, 1))\n",
        "sm.set_array([])\n",
        "plt.colorbar(sm, ax=ax, orientation='vertical')\n",
        "plt.savefig('nmf_laws.pdf', format='pdf')"
      ],
      "metadata": {
        "colab": {
          "base_uri": "https://localhost:8080/",
          "height": 258
        },
        "id": "nPwSpd4KMNGq",
        "outputId": "1a08d8d9-43bf-4684-e228-cec6a3a91dfa"
      },
      "execution_count": null,
      "outputs": [
        {
          "output_type": "display_data",
          "data": {
            "text/plain": [
              "<Figure size 300x200 with 2 Axes>"
            ],
            "image/png": "[encoded data removed]"
          },
          "metadata": {}
        }
      ]
    },
    {
      "cell_type": "markdown",
      "source": [
        "Display the dataset."
      ],
      "metadata": {
        "id": "gPrblJdXAcMs"
      }
    },
    {
      "cell_type": "code",
      "source": [
        "for num in range(6):\n",
        "  I = torch.reshape( -Y[num,:], [p0,p0] )\n",
        "  ax = plt.subplot(2,3,num+1)\n",
        "  plt.imshow(I.detach().cpu(), cmap='gray')\n",
        "  ax.set_xticks([])\n",
        "  ax.set_yticks([])\n",
        "plt.savefig('nmf_input.pdf', format='pdf')"
      ],
      "metadata": {
        "colab": {
          "base_uri": "https://localhost:8080/",
          "height": 384
        },
        "id": "OD6kgFHBaFNf",
        "outputId": "bcbeb8cf-06bb-4fbd-9f00-b10e7cb59c0a"
      },
      "execution_count": null,
      "outputs": [
        {
          "output_type": "display_data",
          "data": {
            "text/plain": [
              "<Figure size 640x480 with 6 Axes>"
            ],
            "image/png": "[encoded data removed]"
          },
          "metadata": {}
        }
      ]
    },
    {
      "cell_type": "markdown",
      "source": [
        "Display the NMF factors."
      ],
      "metadata": {
        "id": "nUeeOHrCAeOH"
      }
    },
    {
      "cell_type": "code",
      "source": [
        "for num in range(min(6,r)):\n",
        "  I = torch.reshape( V[:,num], [p0,p0] )\n",
        "  ax = plt.subplot(2,3,num+1)\n",
        "  plt.imshow(-I.detach().cpu(), cmap='gray')\n",
        "  ax.set_xticks([])\n",
        "  ax.set_yticks([])\n",
        "plt.savefig('nmf_factors.pdf', format='pdf')"
      ],
      "metadata": {
        "id": "R9XxM1bwXvF7",
        "colab": {
          "base_uri": "https://localhost:8080/",
          "height": 384
        },
        "outputId": "7de7efdb-b5e6-4d2f-c6cf-46d9bc59fde7"
      },
      "execution_count": null,
      "outputs": [
        {
          "output_type": "display_data",
          "data": {
            "text/plain": [
              "<Figure size 640x480 with 6 Axes>"
            ],
            "image/png": "[encoded data removed]"
          },
          "metadata": {}
        }
      ]
    },
    {
      "cell_type": "code",
      "source": [],
      "metadata": {
        "id": "_eZau1QzZ9C-"
      },
      "execution_count": null,
      "outputs": []
    }
  ],
  "metadata": {
    "kernelspec": {
      "display_name": "Python 3",
      "name": "python3"
    },
    "language_info": {
      "codemirror_mode": {
        "name": "ipython",
        "version": 3
      },
      "file_extension": ".py",
      "mimetype": "text/x-python",
      "name": "python",
      "nbconvert_exporter": "python",
      "pygments_lexer": "ipython3",
      "version": "3.10.8"
    },
    "colab": {
      "provenance": [],
      "gpuType": "T4"
    },
    "accelerator": "GPU"
  },
  "nbformat": 4,
  "nbformat_minor": 0
}